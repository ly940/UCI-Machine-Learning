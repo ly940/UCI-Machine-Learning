{
 "cells": [
  {
   "cell_type": "markdown",
   "metadata": {},
   "source": [
    "# Travel time, Study Time and Impact on Academic Performance?"
   ]
  },
  {
   "cell_type": "markdown",
   "metadata": {},
   "source": [
    "#### Group Members: Selin Acikgoz, Yuening Lu, Aman Mehra, Praneel Talluri"
   ]
  },
  {
   "cell_type": "markdown",
   "metadata": {},
   "source": [
    "### _Background_"
   ]
  },
  {
   "cell_type": "markdown",
   "metadata": {},
   "source": [
    "Many studies found that the academic performance of students who study more are more successful than those who study less. \n",
    "Longer travel times consume time and energy and they can affect studying and academic success. Travel time affects studying habits. It was found that decreased travel time resulted in higher grades (Dutton, Dutton & Perry, 2002). Also, another study suggested that students living on campus have higher academic performance than students living off-campus (Turly & Wodtke, 2010). \n",
    "Travel time can decrease study time and study time has been found to positively impact academic performance. "
   ]
  },
  {
   "cell_type": "markdown",
   "metadata": {},
   "source": [
    "### _Questions_"
   ]
  },
  {
   "cell_type": "markdown",
   "metadata": {},
   "source": [
    "* Is there a correlation between study time and academic performance (final grade), and can higher study time lead to higher student performance (final grade)? \n",
    "* Can we predict the travel time of a student, using study time and academic performance (final grade) as predictors?  \n"
   ]
  },
  {
   "cell_type": "markdown",
   "metadata": {},
   "source": [
    "### _Data Set Information_"
   ]
  },
  {
   "cell_type": "markdown",
   "metadata": {},
   "source": [
    "The data is collected from two Portuguese high schools. The data includes student grades, demographic, social, and school-related features and obtained through school reports and questionnaires. Two datasets are presented: Mathematics (mat) and Portuguese language (por). We’re going to be using the Portuegese language dataset. We picked two predictors to predict student performance; travel time and study time. Travel time is the total amount of time student spend on the trip, from home to school (numeric: 1 - <15 min., 2 - 15 to 30 min., 3 - 30 min. to 1 hour, or 4 - >1 hour). Study time is the total amount of time student spend studying weekly (numeric: 1 - <2 hours, 2 - 2 to 5 hours, 3 - 5 to 10 hours, or 4 - >10 hours). In our dataset, grades are used as an indicator of academic performance (G1, G2, G3).\n"
   ]
  },
  {
   "cell_type": "markdown",
   "metadata": {},
   "source": [
    "### _Preliminary Exploratory Data Analysis_"
   ]
  },
  {
   "cell_type": "markdown",
   "metadata": {},
   "source": [
    "**Our Code:** "
   ]
  },
  {
   "cell_type": "code",
   "execution_count": 101,
   "metadata": {},
   "outputs": [],
   "source": [
    "library(tidyverse)\n",
    "library(repr)\n",
    "library(tidymodels)"
   ]
  },
  {
   "cell_type": "code",
   "execution_count": 102,
   "metadata": {},
   "outputs": [
    {
     "name": "stderr",
     "output_type": "stream",
     "text": [
      "Parsed with column specification:\n",
      "cols(\n",
      "  .default = col_character(),\n",
      "  age = \u001b[32mcol_double()\u001b[39m,\n",
      "  Medu = \u001b[32mcol_double()\u001b[39m,\n",
      "  Fedu = \u001b[32mcol_double()\u001b[39m,\n",
      "  traveltime = \u001b[32mcol_double()\u001b[39m,\n",
      "  studytime = \u001b[32mcol_double()\u001b[39m,\n",
      "  failures = \u001b[32mcol_double()\u001b[39m,\n",
      "  famrel = \u001b[32mcol_double()\u001b[39m,\n",
      "  freetime = \u001b[32mcol_double()\u001b[39m,\n",
      "  goout = \u001b[32mcol_double()\u001b[39m,\n",
      "  Dalc = \u001b[32mcol_double()\u001b[39m,\n",
      "  Walc = \u001b[32mcol_double()\u001b[39m,\n",
      "  health = \u001b[32mcol_double()\u001b[39m,\n",
      "  absences = \u001b[32mcol_double()\u001b[39m,\n",
      "  G1 = \u001b[32mcol_double()\u001b[39m,\n",
      "  G2 = \u001b[32mcol_double()\u001b[39m,\n",
      "  G3 = \u001b[32mcol_double()\u001b[39m\n",
      ")\n",
      "\n",
      "See spec(...) for full column specifications.\n",
      "\n"
     ]
    }
   ],
   "source": [
    "student_performance <- read_delim(\"student-por.csv\", delim = \";\")"
   ]
  },
  {
   "cell_type": "code",
   "execution_count": 103,
   "metadata": {},
   "outputs": [
    {
     "data": {
      "text/html": [
       "<table>\n",
       "<caption>A tibble: 6 × 33</caption>\n",
       "<thead>\n",
       "\t<tr><th scope=col>school</th><th scope=col>sex</th><th scope=col>age</th><th scope=col>address</th><th scope=col>famsize</th><th scope=col>Pstatus</th><th scope=col>Medu</th><th scope=col>Fedu</th><th scope=col>Mjob</th><th scope=col>Fjob</th><th scope=col>⋯</th><th scope=col>famrel</th><th scope=col>freetime</th><th scope=col>goout</th><th scope=col>Dalc</th><th scope=col>Walc</th><th scope=col>health</th><th scope=col>absences</th><th scope=col>G1</th><th scope=col>G2</th><th scope=col>G3</th></tr>\n",
       "\t<tr><th scope=col>&lt;chr&gt;</th><th scope=col>&lt;chr&gt;</th><th scope=col>&lt;dbl&gt;</th><th scope=col>&lt;chr&gt;</th><th scope=col>&lt;chr&gt;</th><th scope=col>&lt;chr&gt;</th><th scope=col>&lt;dbl&gt;</th><th scope=col>&lt;dbl&gt;</th><th scope=col>&lt;chr&gt;</th><th scope=col>&lt;chr&gt;</th><th scope=col>⋯</th><th scope=col>&lt;dbl&gt;</th><th scope=col>&lt;dbl&gt;</th><th scope=col>&lt;dbl&gt;</th><th scope=col>&lt;dbl&gt;</th><th scope=col>&lt;dbl&gt;</th><th scope=col>&lt;dbl&gt;</th><th scope=col>&lt;dbl&gt;</th><th scope=col>&lt;dbl&gt;</th><th scope=col>&lt;dbl&gt;</th><th scope=col>&lt;dbl&gt;</th></tr>\n",
       "</thead>\n",
       "<tbody>\n",
       "\t<tr><td>GP</td><td>F</td><td>18</td><td>U</td><td>GT3</td><td>A</td><td>4</td><td>4</td><td>at_home </td><td>teacher </td><td>⋯</td><td>4</td><td>3</td><td>4</td><td>1</td><td>1</td><td>3</td><td>4</td><td> 0</td><td>11</td><td>11</td></tr>\n",
       "\t<tr><td>GP</td><td>F</td><td>17</td><td>U</td><td>GT3</td><td>T</td><td>1</td><td>1</td><td>at_home </td><td>other   </td><td>⋯</td><td>5</td><td>3</td><td>3</td><td>1</td><td>1</td><td>3</td><td>2</td><td> 9</td><td>11</td><td>11</td></tr>\n",
       "\t<tr><td>GP</td><td>F</td><td>15</td><td>U</td><td>LE3</td><td>T</td><td>1</td><td>1</td><td>at_home </td><td>other   </td><td>⋯</td><td>4</td><td>3</td><td>2</td><td>2</td><td>3</td><td>3</td><td>6</td><td>12</td><td>13</td><td>12</td></tr>\n",
       "\t<tr><td>GP</td><td>F</td><td>15</td><td>U</td><td>GT3</td><td>T</td><td>4</td><td>2</td><td>health  </td><td>services</td><td>⋯</td><td>3</td><td>2</td><td>2</td><td>1</td><td>1</td><td>5</td><td>0</td><td>14</td><td>14</td><td>14</td></tr>\n",
       "\t<tr><td>GP</td><td>F</td><td>16</td><td>U</td><td>GT3</td><td>T</td><td>3</td><td>3</td><td>other   </td><td>other   </td><td>⋯</td><td>4</td><td>3</td><td>2</td><td>1</td><td>2</td><td>5</td><td>0</td><td>11</td><td>13</td><td>13</td></tr>\n",
       "\t<tr><td>GP</td><td>M</td><td>16</td><td>U</td><td>LE3</td><td>T</td><td>4</td><td>3</td><td>services</td><td>other   </td><td>⋯</td><td>5</td><td>4</td><td>2</td><td>1</td><td>2</td><td>5</td><td>6</td><td>12</td><td>12</td><td>13</td></tr>\n",
       "</tbody>\n",
       "</table>\n"
      ],
      "text/latex": [
       "A tibble: 6 × 33\n",
       "\\begin{tabular}{lllllllllllllllllllll}\n",
       " school & sex & age & address & famsize & Pstatus & Medu & Fedu & Mjob & Fjob & ⋯ & famrel & freetime & goout & Dalc & Walc & health & absences & G1 & G2 & G3\\\\\n",
       " <chr> & <chr> & <dbl> & <chr> & <chr> & <chr> & <dbl> & <dbl> & <chr> & <chr> & ⋯ & <dbl> & <dbl> & <dbl> & <dbl> & <dbl> & <dbl> & <dbl> & <dbl> & <dbl> & <dbl>\\\\\n",
       "\\hline\n",
       "\t GP & F & 18 & U & GT3 & A & 4 & 4 & at\\_home  & teacher  & ⋯ & 4 & 3 & 4 & 1 & 1 & 3 & 4 &  0 & 11 & 11\\\\\n",
       "\t GP & F & 17 & U & GT3 & T & 1 & 1 & at\\_home  & other    & ⋯ & 5 & 3 & 3 & 1 & 1 & 3 & 2 &  9 & 11 & 11\\\\\n",
       "\t GP & F & 15 & U & LE3 & T & 1 & 1 & at\\_home  & other    & ⋯ & 4 & 3 & 2 & 2 & 3 & 3 & 6 & 12 & 13 & 12\\\\\n",
       "\t GP & F & 15 & U & GT3 & T & 4 & 2 & health   & services & ⋯ & 3 & 2 & 2 & 1 & 1 & 5 & 0 & 14 & 14 & 14\\\\\n",
       "\t GP & F & 16 & U & GT3 & T & 3 & 3 & other    & other    & ⋯ & 4 & 3 & 2 & 1 & 2 & 5 & 0 & 11 & 13 & 13\\\\\n",
       "\t GP & M & 16 & U & LE3 & T & 4 & 3 & services & other    & ⋯ & 5 & 4 & 2 & 1 & 2 & 5 & 6 & 12 & 12 & 13\\\\\n",
       "\\end{tabular}\n"
      ],
      "text/markdown": [
       "\n",
       "A tibble: 6 × 33\n",
       "\n",
       "| school &lt;chr&gt; | sex &lt;chr&gt; | age &lt;dbl&gt; | address &lt;chr&gt; | famsize &lt;chr&gt; | Pstatus &lt;chr&gt; | Medu &lt;dbl&gt; | Fedu &lt;dbl&gt; | Mjob &lt;chr&gt; | Fjob &lt;chr&gt; | ⋯ ⋯ | famrel &lt;dbl&gt; | freetime &lt;dbl&gt; | goout &lt;dbl&gt; | Dalc &lt;dbl&gt; | Walc &lt;dbl&gt; | health &lt;dbl&gt; | absences &lt;dbl&gt; | G1 &lt;dbl&gt; | G2 &lt;dbl&gt; | G3 &lt;dbl&gt; |\n",
       "|---|---|---|---|---|---|---|---|---|---|---|---|---|---|---|---|---|---|---|---|---|\n",
       "| GP | F | 18 | U | GT3 | A | 4 | 4 | at_home  | teacher  | ⋯ | 4 | 3 | 4 | 1 | 1 | 3 | 4 |  0 | 11 | 11 |\n",
       "| GP | F | 17 | U | GT3 | T | 1 | 1 | at_home  | other    | ⋯ | 5 | 3 | 3 | 1 | 1 | 3 | 2 |  9 | 11 | 11 |\n",
       "| GP | F | 15 | U | LE3 | T | 1 | 1 | at_home  | other    | ⋯ | 4 | 3 | 2 | 2 | 3 | 3 | 6 | 12 | 13 | 12 |\n",
       "| GP | F | 15 | U | GT3 | T | 4 | 2 | health   | services | ⋯ | 3 | 2 | 2 | 1 | 1 | 5 | 0 | 14 | 14 | 14 |\n",
       "| GP | F | 16 | U | GT3 | T | 3 | 3 | other    | other    | ⋯ | 4 | 3 | 2 | 1 | 2 | 5 | 0 | 11 | 13 | 13 |\n",
       "| GP | M | 16 | U | LE3 | T | 4 | 3 | services | other    | ⋯ | 5 | 4 | 2 | 1 | 2 | 5 | 6 | 12 | 12 | 13 |\n",
       "\n"
      ],
      "text/plain": [
       "  school sex age address famsize Pstatus Medu Fedu Mjob     Fjob     ⋯ famrel\n",
       "1 GP     F   18  U       GT3     A       4    4    at_home  teacher  ⋯ 4     \n",
       "2 GP     F   17  U       GT3     T       1    1    at_home  other    ⋯ 5     \n",
       "3 GP     F   15  U       LE3     T       1    1    at_home  other    ⋯ 4     \n",
       "4 GP     F   15  U       GT3     T       4    2    health   services ⋯ 3     \n",
       "5 GP     F   16  U       GT3     T       3    3    other    other    ⋯ 4     \n",
       "6 GP     M   16  U       LE3     T       4    3    services other    ⋯ 5     \n",
       "  freetime goout Dalc Walc health absences G1 G2 G3\n",
       "1 3        4     1    1    3      4         0 11 11\n",
       "2 3        3     1    1    3      2         9 11 11\n",
       "3 3        2     2    3    3      6        12 13 12\n",
       "4 2        2     1    1    5      0        14 14 14\n",
       "5 3        2     1    2    5      0        11 13 13\n",
       "6 4        2     1    2    5      6        12 12 13"
      ]
     },
     "metadata": {},
     "output_type": "display_data"
    }
   ],
   "source": [
    "head(student_performance)"
   ]
  },
  {
   "cell_type": "code",
   "execution_count": 104,
   "metadata": {},
   "outputs": [
    {
     "data": {
      "text/html": [
       "33"
      ],
      "text/latex": [
       "33"
      ],
      "text/markdown": [
       "33"
      ],
      "text/plain": [
       "[1] 33"
      ]
     },
     "metadata": {},
     "output_type": "display_data"
    }
   ],
   "source": [
    "ncol(student_performance)"
   ]
  },
  {
   "cell_type": "code",
   "execution_count": 105,
   "metadata": {},
   "outputs": [
    {
     "data": {
      "text/html": [
       "649"
      ],
      "text/latex": [
       "649"
      ],
      "text/markdown": [
       "649"
      ],
      "text/plain": [
       "[1] 649"
      ]
     },
     "metadata": {},
     "output_type": "display_data"
    }
   ],
   "source": [
    "nrow(student_performance)"
   ]
  },
  {
   "cell_type": "code",
   "execution_count": 111,
   "metadata": {},
   "outputs": [
    {
     "data": {
      "text/html": [
       "0"
      ],
      "text/latex": [
       "0"
      ],
      "text/markdown": [
       "0"
      ],
      "text/plain": [
       "[1] 0"
      ]
     },
     "metadata": {},
     "output_type": "display_data"
    }
   ],
   "source": [
    "missing_data <- sum(is.na(student_performance))\n",
    "missing_data"
   ]
  },
  {
   "cell_type": "markdown",
   "metadata": {},
   "source": [
    "**There is no missing data in the dataset.**"
   ]
  },
  {
   "cell_type": "code",
   "execution_count": 113,
   "metadata": {},
   "outputs": [
    {
     "data": {
      "text/html": [
       "<table>\n",
       "<caption>A tibble: 6 × 33</caption>\n",
       "<thead>\n",
       "\t<tr><th scope=col>school</th><th scope=col>sex</th><th scope=col>age</th><th scope=col>address</th><th scope=col>famsize</th><th scope=col>Pstatus</th><th scope=col>Medu</th><th scope=col>Fedu</th><th scope=col>Mjob</th><th scope=col>Fjob</th><th scope=col>⋯</th><th scope=col>famrel</th><th scope=col>freetime</th><th scope=col>goout</th><th scope=col>Dalc</th><th scope=col>Walc</th><th scope=col>health</th><th scope=col>absences</th><th scope=col>G1</th><th scope=col>G2</th><th scope=col>G3</th></tr>\n",
       "\t<tr><th scope=col>&lt;chr&gt;</th><th scope=col>&lt;chr&gt;</th><th scope=col>&lt;dbl&gt;</th><th scope=col>&lt;chr&gt;</th><th scope=col>&lt;chr&gt;</th><th scope=col>&lt;chr&gt;</th><th scope=col>&lt;dbl&gt;</th><th scope=col>&lt;dbl&gt;</th><th scope=col>&lt;chr&gt;</th><th scope=col>&lt;chr&gt;</th><th scope=col>⋯</th><th scope=col>&lt;dbl&gt;</th><th scope=col>&lt;dbl&gt;</th><th scope=col>&lt;dbl&gt;</th><th scope=col>&lt;dbl&gt;</th><th scope=col>&lt;dbl&gt;</th><th scope=col>&lt;dbl&gt;</th><th scope=col>&lt;dbl&gt;</th><th scope=col>&lt;dbl&gt;</th><th scope=col>&lt;dbl&gt;</th><th scope=col>&lt;dbl&gt;</th></tr>\n",
       "</thead>\n",
       "<tbody>\n",
       "\t<tr><td>GP</td><td>F</td><td>18</td><td>U</td><td>GT3</td><td>A</td><td>4</td><td>4</td><td>at_home </td><td>teacher </td><td>⋯</td><td>4</td><td>3</td><td>4</td><td>1</td><td>1</td><td>3</td><td>4</td><td> 0</td><td>11</td><td>11</td></tr>\n",
       "\t<tr><td>GP</td><td>F</td><td>17</td><td>U</td><td>GT3</td><td>T</td><td>1</td><td>1</td><td>at_home </td><td>other   </td><td>⋯</td><td>5</td><td>3</td><td>3</td><td>1</td><td>1</td><td>3</td><td>2</td><td> 9</td><td>11</td><td>11</td></tr>\n",
       "\t<tr><td>GP</td><td>F</td><td>15</td><td>U</td><td>LE3</td><td>T</td><td>1</td><td>1</td><td>at_home </td><td>other   </td><td>⋯</td><td>4</td><td>3</td><td>2</td><td>2</td><td>3</td><td>3</td><td>6</td><td>12</td><td>13</td><td>12</td></tr>\n",
       "\t<tr><td>GP</td><td>F</td><td>15</td><td>U</td><td>GT3</td><td>T</td><td>4</td><td>2</td><td>health  </td><td>services</td><td>⋯</td><td>3</td><td>2</td><td>2</td><td>1</td><td>1</td><td>5</td><td>0</td><td>14</td><td>14</td><td>14</td></tr>\n",
       "\t<tr><td>GP</td><td>F</td><td>16</td><td>U</td><td>GT3</td><td>T</td><td>3</td><td>3</td><td>other   </td><td>other   </td><td>⋯</td><td>4</td><td>3</td><td>2</td><td>1</td><td>2</td><td>5</td><td>0</td><td>11</td><td>13</td><td>13</td></tr>\n",
       "\t<tr><td>GP</td><td>M</td><td>16</td><td>U</td><td>LE3</td><td>T</td><td>4</td><td>3</td><td>services</td><td>other   </td><td>⋯</td><td>5</td><td>4</td><td>2</td><td>1</td><td>2</td><td>5</td><td>6</td><td>12</td><td>12</td><td>13</td></tr>\n",
       "</tbody>\n",
       "</table>\n"
      ],
      "text/latex": [
       "A tibble: 6 × 33\n",
       "\\begin{tabular}{lllllllllllllllllllll}\n",
       " school & sex & age & address & famsize & Pstatus & Medu & Fedu & Mjob & Fjob & ⋯ & famrel & freetime & goout & Dalc & Walc & health & absences & G1 & G2 & G3\\\\\n",
       " <chr> & <chr> & <dbl> & <chr> & <chr> & <chr> & <dbl> & <dbl> & <chr> & <chr> & ⋯ & <dbl> & <dbl> & <dbl> & <dbl> & <dbl> & <dbl> & <dbl> & <dbl> & <dbl> & <dbl>\\\\\n",
       "\\hline\n",
       "\t GP & F & 18 & U & GT3 & A & 4 & 4 & at\\_home  & teacher  & ⋯ & 4 & 3 & 4 & 1 & 1 & 3 & 4 &  0 & 11 & 11\\\\\n",
       "\t GP & F & 17 & U & GT3 & T & 1 & 1 & at\\_home  & other    & ⋯ & 5 & 3 & 3 & 1 & 1 & 3 & 2 &  9 & 11 & 11\\\\\n",
       "\t GP & F & 15 & U & LE3 & T & 1 & 1 & at\\_home  & other    & ⋯ & 4 & 3 & 2 & 2 & 3 & 3 & 6 & 12 & 13 & 12\\\\\n",
       "\t GP & F & 15 & U & GT3 & T & 4 & 2 & health   & services & ⋯ & 3 & 2 & 2 & 1 & 1 & 5 & 0 & 14 & 14 & 14\\\\\n",
       "\t GP & F & 16 & U & GT3 & T & 3 & 3 & other    & other    & ⋯ & 4 & 3 & 2 & 1 & 2 & 5 & 0 & 11 & 13 & 13\\\\\n",
       "\t GP & M & 16 & U & LE3 & T & 4 & 3 & services & other    & ⋯ & 5 & 4 & 2 & 1 & 2 & 5 & 6 & 12 & 12 & 13\\\\\n",
       "\\end{tabular}\n"
      ],
      "text/markdown": [
       "\n",
       "A tibble: 6 × 33\n",
       "\n",
       "| school &lt;chr&gt; | sex &lt;chr&gt; | age &lt;dbl&gt; | address &lt;chr&gt; | famsize &lt;chr&gt; | Pstatus &lt;chr&gt; | Medu &lt;dbl&gt; | Fedu &lt;dbl&gt; | Mjob &lt;chr&gt; | Fjob &lt;chr&gt; | ⋯ ⋯ | famrel &lt;dbl&gt; | freetime &lt;dbl&gt; | goout &lt;dbl&gt; | Dalc &lt;dbl&gt; | Walc &lt;dbl&gt; | health &lt;dbl&gt; | absences &lt;dbl&gt; | G1 &lt;dbl&gt; | G2 &lt;dbl&gt; | G3 &lt;dbl&gt; |\n",
       "|---|---|---|---|---|---|---|---|---|---|---|---|---|---|---|---|---|---|---|---|---|\n",
       "| GP | F | 18 | U | GT3 | A | 4 | 4 | at_home  | teacher  | ⋯ | 4 | 3 | 4 | 1 | 1 | 3 | 4 |  0 | 11 | 11 |\n",
       "| GP | F | 17 | U | GT3 | T | 1 | 1 | at_home  | other    | ⋯ | 5 | 3 | 3 | 1 | 1 | 3 | 2 |  9 | 11 | 11 |\n",
       "| GP | F | 15 | U | LE3 | T | 1 | 1 | at_home  | other    | ⋯ | 4 | 3 | 2 | 2 | 3 | 3 | 6 | 12 | 13 | 12 |\n",
       "| GP | F | 15 | U | GT3 | T | 4 | 2 | health   | services | ⋯ | 3 | 2 | 2 | 1 | 1 | 5 | 0 | 14 | 14 | 14 |\n",
       "| GP | F | 16 | U | GT3 | T | 3 | 3 | other    | other    | ⋯ | 4 | 3 | 2 | 1 | 2 | 5 | 0 | 11 | 13 | 13 |\n",
       "| GP | M | 16 | U | LE3 | T | 4 | 3 | services | other    | ⋯ | 5 | 4 | 2 | 1 | 2 | 5 | 6 | 12 | 12 | 13 |\n",
       "\n"
      ],
      "text/plain": [
       "  school sex age address famsize Pstatus Medu Fedu Mjob     Fjob     ⋯ famrel\n",
       "1 GP     F   18  U       GT3     A       4    4    at_home  teacher  ⋯ 4     \n",
       "2 GP     F   17  U       GT3     T       1    1    at_home  other    ⋯ 5     \n",
       "3 GP     F   15  U       LE3     T       1    1    at_home  other    ⋯ 4     \n",
       "4 GP     F   15  U       GT3     T       4    2    health   services ⋯ 3     \n",
       "5 GP     F   16  U       GT3     T       3    3    other    other    ⋯ 4     \n",
       "6 GP     M   16  U       LE3     T       4    3    services other    ⋯ 5     \n",
       "  freetime goout Dalc Walc health absences G1 G2 G3\n",
       "1 3        4     1    1    3      4         0 11 11\n",
       "2 3        3     1    1    3      2         9 11 11\n",
       "3 3        2     2    3    3      6        12 13 12\n",
       "4 2        2     1    1    5      0        14 14 14\n",
       "5 3        2     1    2    5      0        11 13 13\n",
       "6 4        2     1    2    5      6        12 12 13"
      ]
     },
     "metadata": {},
     "output_type": "display_data"
    }
   ],
   "source": [
    "student_performance <- mutate(student_performance,\n",
    "                             traveltime = as.character(traveltime))\n",
    "head(student_performance)"
   ]
  },
  {
   "cell_type": "code",
   "execution_count": 114,
   "metadata": {},
   "outputs": [
    {
     "data": {
      "text/html": [
       "<table>\n",
       "<caption>A tibble: 6 × 5</caption>\n",
       "<thead>\n",
       "\t<tr><th scope=col>sex</th><th scope=col>age</th><th scope=col>studytime</th><th scope=col>traveltime</th><th scope=col>G3</th></tr>\n",
       "\t<tr><th scope=col>&lt;chr&gt;</th><th scope=col>&lt;dbl&gt;</th><th scope=col>&lt;dbl&gt;</th><th scope=col>&lt;chr&gt;</th><th scope=col>&lt;dbl&gt;</th></tr>\n",
       "</thead>\n",
       "<tbody>\n",
       "\t<tr><td>F</td><td>18</td><td>2</td><td>2</td><td>11</td></tr>\n",
       "\t<tr><td>F</td><td>17</td><td>2</td><td>1</td><td>11</td></tr>\n",
       "\t<tr><td>F</td><td>15</td><td>2</td><td>1</td><td>12</td></tr>\n",
       "\t<tr><td>F</td><td>15</td><td>3</td><td>1</td><td>14</td></tr>\n",
       "\t<tr><td>F</td><td>16</td><td>2</td><td>1</td><td>13</td></tr>\n",
       "\t<tr><td>M</td><td>16</td><td>2</td><td>1</td><td>13</td></tr>\n",
       "</tbody>\n",
       "</table>\n"
      ],
      "text/latex": [
       "A tibble: 6 × 5\n",
       "\\begin{tabular}{lllll}\n",
       " sex & age & studytime & traveltime & G3\\\\\n",
       " <chr> & <dbl> & <dbl> & <chr> & <dbl>\\\\\n",
       "\\hline\n",
       "\t F & 18 & 2 & 2 & 11\\\\\n",
       "\t F & 17 & 2 & 1 & 11\\\\\n",
       "\t F & 15 & 2 & 1 & 12\\\\\n",
       "\t F & 15 & 3 & 1 & 14\\\\\n",
       "\t F & 16 & 2 & 1 & 13\\\\\n",
       "\t M & 16 & 2 & 1 & 13\\\\\n",
       "\\end{tabular}\n"
      ],
      "text/markdown": [
       "\n",
       "A tibble: 6 × 5\n",
       "\n",
       "| sex &lt;chr&gt; | age &lt;dbl&gt; | studytime &lt;dbl&gt; | traveltime &lt;chr&gt; | G3 &lt;dbl&gt; |\n",
       "|---|---|---|---|---|\n",
       "| F | 18 | 2 | 2 | 11 |\n",
       "| F | 17 | 2 | 1 | 11 |\n",
       "| F | 15 | 2 | 1 | 12 |\n",
       "| F | 15 | 3 | 1 | 14 |\n",
       "| F | 16 | 2 | 1 | 13 |\n",
       "| M | 16 | 2 | 1 | 13 |\n",
       "\n"
      ],
      "text/plain": [
       "  sex age studytime traveltime G3\n",
       "1 F   18  2         2          11\n",
       "2 F   17  2         1          11\n",
       "3 F   15  2         1          12\n",
       "4 F   15  3         1          14\n",
       "5 F   16  2         1          13\n",
       "6 M   16  2         1          13"
      ]
     },
     "metadata": {},
     "output_type": "display_data"
    }
   ],
   "source": [
    "student_performance_select <- select(student_performance, sex, age, studytime, traveltime, G3) \n",
    "head(student_performance_select)"
   ]
  },
  {
   "cell_type": "code",
   "execution_count": 115,
   "metadata": {},
   "outputs": [
    {
     "data": {
      "text/html": [
       "<table>\n",
       "<caption>A tibble: 6 × 5</caption>\n",
       "<thead>\n",
       "\t<tr><th scope=col>sex</th><th scope=col>age</th><th scope=col>studytime</th><th scope=col>traveltime</th><th scope=col>G3</th></tr>\n",
       "\t<tr><th scope=col>&lt;chr&gt;</th><th scope=col>&lt;dbl&gt;</th><th scope=col>&lt;dbl&gt;</th><th scope=col>&lt;chr&gt;</th><th scope=col>&lt;dbl&gt;</th></tr>\n",
       "</thead>\n",
       "<tbody>\n",
       "\t<tr><td>F</td><td>18</td><td>2</td><td>2</td><td>11</td></tr>\n",
       "\t<tr><td>F</td><td>17</td><td>2</td><td>1</td><td>11</td></tr>\n",
       "\t<tr><td>F</td><td>15</td><td>2</td><td>1</td><td>12</td></tr>\n",
       "\t<tr><td>F</td><td>15</td><td>3</td><td>1</td><td>14</td></tr>\n",
       "\t<tr><td>F</td><td>16</td><td>2</td><td>1</td><td>13</td></tr>\n",
       "\t<tr><td>M</td><td>16</td><td>2</td><td>1</td><td>13</td></tr>\n",
       "</tbody>\n",
       "</table>\n"
      ],
      "text/latex": [
       "A tibble: 6 × 5\n",
       "\\begin{tabular}{lllll}\n",
       " sex & age & studytime & traveltime & G3\\\\\n",
       " <chr> & <dbl> & <dbl> & <chr> & <dbl>\\\\\n",
       "\\hline\n",
       "\t F & 18 & 2 & 2 & 11\\\\\n",
       "\t F & 17 & 2 & 1 & 11\\\\\n",
       "\t F & 15 & 2 & 1 & 12\\\\\n",
       "\t F & 15 & 3 & 1 & 14\\\\\n",
       "\t F & 16 & 2 & 1 & 13\\\\\n",
       "\t M & 16 & 2 & 1 & 13\\\\\n",
       "\\end{tabular}\n"
      ],
      "text/markdown": [
       "\n",
       "A tibble: 6 × 5\n",
       "\n",
       "| sex &lt;chr&gt; | age &lt;dbl&gt; | studytime &lt;dbl&gt; | traveltime &lt;chr&gt; | G3 &lt;dbl&gt; |\n",
       "|---|---|---|---|---|\n",
       "| F | 18 | 2 | 2 | 11 |\n",
       "| F | 17 | 2 | 1 | 11 |\n",
       "| F | 15 | 2 | 1 | 12 |\n",
       "| F | 15 | 3 | 1 | 14 |\n",
       "| F | 16 | 2 | 1 | 13 |\n",
       "| M | 16 | 2 | 1 | 13 |\n",
       "\n"
      ],
      "text/plain": [
       "  sex age studytime traveltime G3\n",
       "1 F   18  2         2          11\n",
       "2 F   17  2         1          11\n",
       "3 F   15  2         1          12\n",
       "4 F   15  3         1          14\n",
       "5 F   16  2         1          13\n",
       "6 M   16  2         1          13"
      ]
     },
     "metadata": {},
     "output_type": "display_data"
    },
    {
     "data": {
      "text/html": [
       "<table>\n",
       "<caption>A tibble: 6 × 5</caption>\n",
       "<thead>\n",
       "\t<tr><th scope=col>sex</th><th scope=col>age</th><th scope=col>studytime</th><th scope=col>traveltime</th><th scope=col>G3</th></tr>\n",
       "\t<tr><th scope=col>&lt;chr&gt;</th><th scope=col>&lt;dbl&gt;</th><th scope=col>&lt;dbl&gt;</th><th scope=col>&lt;chr&gt;</th><th scope=col>&lt;dbl&gt;</th></tr>\n",
       "</thead>\n",
       "<tbody>\n",
       "\t<tr><td>F</td><td>17</td><td>2</td><td>2</td><td>16</td></tr>\n",
       "\t<tr><td>F</td><td>17</td><td>2</td><td>2</td><td>12</td></tr>\n",
       "\t<tr><td>F</td><td>18</td><td>2</td><td>2</td><td>10</td></tr>\n",
       "\t<tr><td>M</td><td>18</td><td>1</td><td>2</td><td>12</td></tr>\n",
       "\t<tr><td>F</td><td>18</td><td>2</td><td>1</td><td>13</td></tr>\n",
       "\t<tr><td>F</td><td>17</td><td>3</td><td>3</td><td>15</td></tr>\n",
       "</tbody>\n",
       "</table>\n"
      ],
      "text/latex": [
       "A tibble: 6 × 5\n",
       "\\begin{tabular}{lllll}\n",
       " sex & age & studytime & traveltime & G3\\\\\n",
       " <chr> & <dbl> & <dbl> & <chr> & <dbl>\\\\\n",
       "\\hline\n",
       "\t F & 17 & 2 & 2 & 16\\\\\n",
       "\t F & 17 & 2 & 2 & 12\\\\\n",
       "\t F & 18 & 2 & 2 & 10\\\\\n",
       "\t M & 18 & 1 & 2 & 12\\\\\n",
       "\t F & 18 & 2 & 1 & 13\\\\\n",
       "\t F & 17 & 3 & 3 & 15\\\\\n",
       "\\end{tabular}\n"
      ],
      "text/markdown": [
       "\n",
       "A tibble: 6 × 5\n",
       "\n",
       "| sex &lt;chr&gt; | age &lt;dbl&gt; | studytime &lt;dbl&gt; | traveltime &lt;chr&gt; | G3 &lt;dbl&gt; |\n",
       "|---|---|---|---|---|\n",
       "| F | 17 | 2 | 2 | 16 |\n",
       "| F | 17 | 2 | 2 | 12 |\n",
       "| F | 18 | 2 | 2 | 10 |\n",
       "| M | 18 | 1 | 2 | 12 |\n",
       "| F | 18 | 2 | 1 | 13 |\n",
       "| F | 17 | 3 | 3 | 15 |\n",
       "\n"
      ],
      "text/plain": [
       "  sex age studytime traveltime G3\n",
       "1 F   17  2         2          16\n",
       "2 F   17  2         2          12\n",
       "3 F   18  2         2          10\n",
       "4 M   18  1         2          12\n",
       "5 F   18  2         1          13\n",
       "6 F   17  3         3          15"
      ]
     },
     "metadata": {},
     "output_type": "display_data"
    }
   ],
   "source": [
    "student_performance_training <- student_performance_select[1:316,]\n",
    "head(student_performance_training)\n",
    "student_performance_test <- student_performance_select[317:395,]\n",
    "head(student_performance_test)"
   ]
  },
  {
   "cell_type": "code",
   "execution_count": 116,
   "metadata": {},
   "outputs": [
    {
     "data": {
      "text/plain": [
       "   Min. 1st Qu.  Median    Mean 3rd Qu.    Max. \n",
       "   0.00   11.00   12.00   12.14   14.00   18.00 "
      ]
     },
     "metadata": {},
     "output_type": "display_data"
    }
   ],
   "source": [
    "student_performance_training_G3_summary <- summary(student_performance_training$G3)\n",
    "student_performance_training_G3_summary"
   ]
  },
  {
   "cell_type": "code",
   "execution_count": 117,
   "metadata": {},
   "outputs": [
    {
     "data": {
      "image/png": "[encoded data removed]",
      "text/plain": [
       "plot without title"
      ]
     },
     "metadata": {
      "image/png": {
       "height": 420,
       "width": 420
      }
     },
     "output_type": "display_data"
    },
    {
     "data": {
      "image/png": "[encoded data removed]",
      "text/plain": [
       "plot without title"
      ]
     },
     "metadata": {
      "image/png": {
       "height": 420,
       "width": 420
      }
     },
     "output_type": "display_data"
    }
   ],
   "source": [
    "studytime_hist <- ggplot(student_performance_training, aes(x = studytime)) +\n",
    "    geom_histogram(binwidth = 0.5)\n",
    "studytime_hist\n",
    "\n",
    "G3_hist <- ggplot(student_performance_training, aes(x = G3)) +\n",
    "    geom_histogram(binwidth = 0.5)\n",
    "G3_hist"
   ]
  },
  {
   "cell_type": "code",
   "execution_count": 119,
   "metadata": {},
   "outputs": [
    {
     "data": {
      "image/png": "[encoded data removed]",
      "text/plain": [
       "plot without title"
      ]
     },
     "metadata": {
      "image/png": {
       "height": 420,
       "width": 420
      }
     },
     "output_type": "display_data"
    }
   ],
   "source": [
    "travel_vs_study_plot <- ggplot(student_performance_training, aes(x = traveltime, y = G3)) +\n",
    "    geom_boxplot() +\n",
    "    labs(x = \"Study time\", y = \"Final Grade (G3)\") +\n",
    "    theme(text = element_text(size = 20)) \n",
    "travel_vs_study_plot"
   ]
  },
  {
   "cell_type": "markdown",
   "metadata": {},
   "source": [
    "### _Methods_"
   ]
  },
  {
   "cell_type": "markdown",
   "metadata": {},
   "source": [
    "* We will be using “studytime”, “traveltime” and “G3” variables from the dataset.\n",
    "* We will be using correlation analysis (a bar graph) to find if there is a correlation between travel time and study time.\n",
    "* We will be using prediction analysis (the K-nearest neighbor classification algorithm) to see if we can predict the final grade (G3) of a student, using travel time and study time as predictors. \n"
   ]
  },
  {
   "cell_type": "markdown",
   "metadata": {},
   "source": [
    "### _Expected outcomes and significance_"
   ]
  },
  {
   "cell_type": "markdown",
   "metadata": {},
   "source": [
    "__What do you expect to find?__\n",
    "* We expect to find a negative correlation between study time and travel time. \n",
    "* We expect to predict the final grade (G3) of a student, using travel time and study time as predictors. We expect that travel time and study time are impacting the academic performance of students. \n",
    "\n",
    "__What impact could such findings have?__\n",
    "* Impact of travel time and study time on students’ academic performance \n",
    "* To find if there is a relationship between students’ travel time and study time\n",
    "\n",
    "__What future questions could this lead to?__\n",
    "* What factors are impacting student academic performance? \n",
    "* What are some ways to increase academic success?\n"
   ]
  },
  {
   "cell_type": "markdown",
   "metadata": {},
   "source": [
    "### _References_"
   ]
  },
  {
   "cell_type": "markdown",
   "metadata": {},
   "source": [
    "Dutton, J., Dutton, M., &amp; Perry, J. (2019). How do online students differ from lecture students? Online Learning, 6(1). doi:10.24059/olj.v6i1.1869\n",
    "\n",
    "López Turley, R. N., & Wodtke, G. (2010). College Residence and Academic Performance: Who Benefits From Living on Campus? Urban Education, 45(4), 506–532. https://doi.org/10.1177/0042085910372351\n",
    "\n",
    "Wu, Q. (2014). Associations between travel behavior and the academic performance of university students. Retrieved March 06, 2021, from https://tigerprints.clemson.edu/all_theses/2063/\n"
   ]
  }
 ],
 "metadata": {
  "kernelspec": {
   "display_name": "R",
   "language": "R",
   "name": "ir"
  },
  "language_info": {
   "codemirror_mode": "r",
   "file_extension": ".r",
   "mimetype": "text/x-r-source",
   "name": "R",
   "pygments_lexer": "r",
   "version": "4.0.0"
  }
 },
 "nbformat": 4,
 "nbformat_minor": 4
}
